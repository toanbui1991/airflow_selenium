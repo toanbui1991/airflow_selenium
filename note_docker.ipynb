{
 "cells": [
  {
   "cell_type": "markdown",
   "metadata": {},
   "source": [
    "*Note about docker in wsl2: *\n",
    "- to start docker daemon use command: sudo /etc/init.d/docker start #best command\n",
    "- or use systemctl command: systemctl start docker"
   ]
  }
 ],
 "metadata": {
  "language_info": {
   "name": "python"
  },
  "orig_nbformat": 4
 },
 "nbformat": 4,
 "nbformat_minor": 2
}
