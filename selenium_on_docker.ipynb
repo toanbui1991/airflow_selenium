{
 "cells": [
  {
   "cell_type": "markdown",
   "metadata": {},
   "source": [
    "# Selenium On Docker\n",
    "This notebook does the following:\n",
    "1. Spin up an exernal Selenium Docker container on the host.\n",
    "2. Configures the remote Selenium Webdriver.\n",
    "3. Sends commands to the Selenium Webdriver:\n",
    "    We will be downloading mp3s from the bbc: wake up to money daily podcast.\n",
    "4. Remove the container."
   ]
  },
  {
   "cell_type": "markdown",
   "metadata": {},
   "source": [
    "## Imports"
   ]
  },
  {
   "cell_type": "code",
   "execution_count": 48,
   "metadata": {},
   "outputs": [],
   "source": [
    "import docker\n",
    "import os\n",
    "import time\n",
    "from selenium import webdriver\n",
    "from selenium.webdriver.common.desired_capabilities import DesiredCapabilities\n",
    "from selenium.webdriver.chrome.options import Options"
   ]
  },
  {
   "cell_type": "markdown",
   "metadata": {},
   "source": [
    "## Start Selenium container"
   ]
  },
  {
   "cell_type": "code",
   "execution_count": 49,
   "metadata": {},
   "outputs": [],
   "source": [
    "cwd = os.getcwd()\n",
    "local_downloads = '{}/downloads'.format(cwd)\n",
    "sel_downloads = '/home/seluser/downloads'"
   ]
  },
  {
   "cell_type": "code",
   "execution_count": 50,
   "metadata": {},
   "outputs": [],
   "source": [
    "client = docker.from_env()\n",
    "container = client.containers.run('selenium/standalone-chrome',\n",
    "        #command=['usermod', '-u 1000 {}'.format(sel_downloads)],\n",
    "        #user='1000'\n",
    "        volumes=['{}:{}'.format(local_downloads, sel_downloads),\n",
    "                 '/dev/shm:/dev/shm'],\n",
    "        ports={'4444/tcp':4444},\n",
    "        network='container_bridge',\n",
    "        detach=True)\n",
    "cli = docker.APIClient()"
   ]
  },
  {
   "cell_type": "markdown",
   "metadata": {},
   "source": [
    "## Configure webdriver"
   ]
  },
  {
   "cell_type": "code",
   "execution_count": 51,
   "metadata": {},
   "outputs": [
    {
     "name": "stdout",
     "output_type": "stream",
     "text": [
      "remote not ready, sleeping for ten seconds.\n",
      "remote ready\n"
     ]
    }
   ],
   "source": [
    "options = Options()\n",
    "options.add_argument(\"--headless\")\n",
    "options.add_argument(\"--window-size=1920x1080\")\n",
    "chrome_driver = '{}:4444/wd/hub'.format('http://127.0.0.1') # This is only required for local development\n",
    "#chrome_driver = '{}:4444/wd/hub'.format('http://ec2-52-31-168-109.eu-west-1.compute.amazonaws.com') # This is only required for local development\n",
    "\n",
    "# wait for remote, unless timeout.\n",
    "while True:\n",
    "    try:\n",
    "        driver = webdriver.Remote(\n",
    "            command_executor=chrome_driver,\n",
    "            desired_capabilities=DesiredCapabilities.CHROME, options=options)\n",
    "        print('remote ready')\n",
    "        break\n",
    "    except:\n",
    "        print('remote not ready, sleeping for ten seconds.')\n",
    "        time.sleep(10)\n",
    "        \n",
    "# Enable downloads in headless chrome.\n",
    "driver.command_executor._commands[\"send_command\"] = (\"POST\", '/session/$sessionId/chromium/send_command')\n",
    "params = {'cmd': 'Page.setDownloadBehavior', 'params': {'behavior': 'allow', 'downloadPath': sel_downloads}}\n",
    "command_result = driver.execute(\"send_command\", params)"
   ]
  },
  {
   "cell_type": "markdown",
   "metadata": {},
   "source": [
    "## Download Wake up to Money MP3 files\n",
    "The configured webdriver will be used to download the mp3s from the BBC podcast Wake up to Money"
   ]
  },
  {
   "cell_type": "code",
   "execution_count": 70,
   "metadata": {},
   "outputs": [],
   "source": [
    "from selenium_scripts.wake_up_to_money import download_podcast"
   ]
  },
  {
   "cell_type": "code",
   "execution_count": 71,
   "metadata": {},
   "outputs": [
    {
     "name": "stdout",
     "output_type": "stream",
     "text": [
      "download started\n",
      "file:  WakeUpToMoney-20191011-WakeUpToMoneyBusinessOfSportRugbyWorldCup.mp3.crdownload found\n",
      "file still downloading, sleeping for 10 seconds\n",
      "download complete\n"
     ]
    }
   ],
   "source": [
    "download_podcast(driver,\n",
    "                 'https://www.bbc.co.uk/programmes/b0070lr5/episodes/downloads',\n",
    "                 local_downloads,\n",
    "                 '20191011')"
   ]
  },
  {
   "cell_type": "markdown",
   "metadata": {},
   "source": [
    "## Remove docker container"
   ]
  },
  {
   "cell_type": "code",
   "execution_count": 47,
   "metadata": {},
   "outputs": [
    {
     "name": "stdout",
     "output_type": "stream",
     "text": [
      "Removed container: dfa4913376d4a39db393bcb98334120f973b2d868215e864e15b7d501bdd38ac\n"
     ]
    }
   ],
   "source": [
    "container.remove(force=True)\n",
    "print('Removed container: {}'.format(container.id))"
   ]
  }
 ],
 "metadata": {
  "hide_input": false,
  "kernelspec": {
   "display_name": "Python 3",
   "language": "python",
   "name": "python3"
  },
  "language_info": {
   "codemirror_mode": {
    "name": "ipython",
    "version": 3
   },
   "file_extension": ".py",
   "mimetype": "text/x-python",
   "name": "python",
   "nbconvert_exporter": "python",
   "pygments_lexer": "ipython3",
   "version": "3.7.4"
  },
  "toc": {
   "base_numbering": 1,
   "nav_menu": {},
   "number_sections": true,
   "sideBar": true,
   "skip_h1_title": false,
   "title_cell": "Table of Contents",
   "title_sidebar": "Contents",
   "toc_cell": false,
   "toc_position": {},
   "toc_section_display": true,
   "toc_window_display": false
  }
 },
 "nbformat": 4,
 "nbformat_minor": 2
}
