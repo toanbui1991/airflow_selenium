{
 "cells": [
  {
   "cell_type": "code",
   "execution_count": null,
   "metadata": {},
   "outputs": [],
   "source": []
  },
  {
   "cell_type": "markdown",
   "metadata": {},
   "source": [
    "*Note about hard reset to previous commit:*\n",
    "- we have commit secret want to want to move the previous commit.\n",
    "- git reset --hard commit_id\n",
    "- git push --force origin branch_name"
   ]
  }
 ],
 "metadata": {
  "language_info": {
   "name": "python"
  },
  "orig_nbformat": 4
 },
 "nbformat": 4,
 "nbformat_minor": 2
}
